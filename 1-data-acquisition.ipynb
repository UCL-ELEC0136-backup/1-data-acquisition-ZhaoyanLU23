{
 "cells": [
  {
   "cell_type": "markdown",
   "metadata": {},
   "source": [
    "<div width=50% style=\"display: block; margin: auto\">\n",
    "    <img src=\"figures/ucl-logo.svg\" width=100%>\n",
    "</div>\n",
    "\n",
    "### [UCL-ELEC0136 Data Acquisition and Processing Systems 2024]()\n",
    "University College London\n",
    "# Lab 1: Data Acquisition\n",
    "\n",
    "\n",
    "<hr width=70% style=\"float: left\">"
   ]
  },
  {
   "cell_type": "markdown",
   "metadata": {},
   "source": [
    "### Objectives\n",
    "\n",
    "The data acquisition lab aims to show how we can find and acquire various data sources (e.g., web scraping, social media, databases, sensors).   \n",
    "In this lab, you will learn:\n",
    "- How to use Python to acquire data from various sources\n",
    "- How to store data in a json format\n",
    "- How to commit and push your code to GitHub\n",
    "\n",
    "\n",
    "### Outline\n",
    "\n",
    "In this class we will cover the following topics:\n",
    "\n",
    "1. [Accepting an assignment](#1.-Accepting-an-assignment)\n",
    "2. [Cloning a repository](#2.-Cloning-a-repository)\n",
    "3. [Creating a virtual environment](#3.-Creating-a-virtual-environment)\n",
    "4. [Acquiring data using the `requests` module and the GitHub RESTful APIs](#4.-Acquiring-data-using-the-requests-module-and-the-GitHub-RESTful-APIs)\n",
    "5. [Pushing your code to GitHub](#5.-Pushing-your-code-to-GitHub)\n",
    "6. [Submitting your assignment](#6.-Submitting-your-assignment)\n",
    "\n",
    "<hr width=70% style=\"float: left\">"
   ]
  },
  {
   "cell_type": "markdown",
   "metadata": {},
   "source": [
    "## 1. Accepting an assignment"
   ]
  },
  {
   "cell_type": "markdown",
   "metadata": {},
   "source": [
    "- For every week of the course, you will be given an assignment to complete.\n",
    "\n",
    "- You can find the **links** to your assignments on Moodle.\n",
    "\n",
    "- When you click on the link, you will be redirected to GitHub Classroom, where you will be asked to accept the assignment. The page will look like this:\n",
    "\n",
    "- GitHub Classroom will create a **public repository** for you, which will contain the assignment, with pattern `<assignment-name>-<your-github-username>`.\n",
    "\n",
    "\n",
    "\n",
    "<div width=50% style=\"display: block; margin-left: auto\">\n",
    "    <img src=\"figures/accepted-assignment.png\" style=\"display: block; margin: auto\" width=50%>\n",
    "</div>\n"
   ]
  },
  {
   "cell_type": "code",
   "execution_count": null,
   "metadata": {},
   "outputs": [],
   "source": [
    "# write your code here, if applicable"
   ]
  },
  {
   "cell_type": "markdown",
   "metadata": {},
   "source": [
    "## 2. Cloning a repository\n",
    "\n",
    "\n",
    "<div class=\"alert alert-block alert-danger\">\n",
    "<b>👩‍💻👨‍💻 Action required</b>\n",
    "\n",
    "- Open a terminal\n",
    "- Navigate to the directory where you want to store your assignment\n",
    "- Clone the repository using the command `git clone <repository-url>`\n",
    "- Navigate to the cloned repository using the command `cd <repository-name>`\n",
    "\n",
    "</div>"
   ]
  },
  {
   "cell_type": "code",
   "execution_count": null,
   "metadata": {},
   "outputs": [],
   "source": [
    "# write your code here, if applicable"
   ]
  },
  {
   "cell_type": "markdown",
   "metadata": {},
   "source": [
    "## 3. Creating a virtual environment\n",
    "\n",
    "You should already have installed [**Anaconda**](https://docs.anaconda.com/free/anaconda/) or an open-source equivalent (preferred), such as [**Miniconda**](https://docs.conda.io/projects/miniconda/en/latest/miniconda-install.html).\n",
    "\n",
    "In this course we advice to mangage your python version using `conda` (e.g. Python 3.9 vs 3.10) and the packages required by Python using `pip`.\n",
    "Check our the preliminary material on the [UCL Moodle](https://moodle.ucl.ac.uk/mod/page/view.php?id=5693674) for instructions on how to use enviornment files.\n",
    "Alternatively, have a look [here](https://github.com/UCL-ELEC0136/example-requirements) to see how an environment file looks like when pip requirements are included in the file itself,\n",
    "or [here](https://github.com/UCL-ELEC0136/setup) for how an environment file where the pip requirements are stored separate into another file.\n",
    "\n",
    "\n",
    "This is a key step as it guarantees that your development environment is **reproducible** by somebody else.\n",
    "Failing do to this in the final assignment will get you a score of 0 (zero) in reproducibility.\n",
    "\n",
    "<div class=\"alert alert-block alert-danger\">\n",
    "<b>👩‍💻👨‍💻 Action required</b>\n",
    "\n",
    "- Create a `conda` environment file and name it `environment.yml`.\n",
    "- The environment (not the file) **must** have name `daps`.\n",
    "- Add `pip` dependencies **within** the environment file to specify the packages that your project needs to run. If you don't know yet which dependencies to use, yo ucan leave the file blank for now and add dependencies later.\n",
    "- Activate the environment using `conda activate daps`.\n",
    "- Install the dependencies using `pip install -r requirements.txt`.\n",
    "</div>\n",
    "\n",
    "\n",
    "<div class=\"alert alert-heading alert-danger\" style=\"background-color: white; border: 2px solid; border-radius: 5px; color: #000; border-color:#AAA; padding: 10px\">\n",
    "    <b>💎 Tip</b>\n",
    "\n",
    "You can prepend an exclamation mark `!` to any command in a Jupyter notebook to run it in the terminal. For example, `!conda activate daps` will activate the `daps` environment in the terminal.\n",
    "\n",
    "</div>\n",
    "\n"
   ]
  },
  {
   "cell_type": "code",
   "execution_count": 14,
   "metadata": {},
   "outputs": [],
   "source": [
    "# write your code here, if applicable"
   ]
  },
  {
   "cell_type": "markdown",
   "metadata": {},
   "source": [
    "## 4. Acquiring data using the `requests` module and the GitHub RESTful APIs\n",
    "\n",
    "The `requests` module is a Python module that allows you to send HTTP requests to a server and receive a response.\n",
    "We will use it to acquire data from the web.\n",
    "\n",
    "<div class=\"alert alert-block alert-danger\">\n",
    "<b>👩‍💻👨‍💻 Action required</b>\n",
    "\n",
    "- Import the `requests` module using `import requests`.\n",
    "- Use the `requests.get()` function to send a `GET` request to a server. The function takes as input the URL of the server, and returns a `Response` object.\n",
    "- Acquire 100 repositories from the `https://github.com/orgs/UCL-ELEC0136` organisation\n",
    "- Use the `Response` object to access the response of the server. For example, you can access the response status code using `Response.status_code`.\n",
    "- Use the `Response.json()` function to convert the response content to a `dict` object.\n",
    "- Use the `json` module to save the `dict` object to a file using `json.dump()`\n",
    "- Use the `json.load()` function to load the `dict` object from the file.\n",
    "- Verify that the `dict` object you loaded from the file is the same as the one you saved to the file.\n",
    "\n",
    "</div>\n",
    "\n",
    "\n",
    "<div class=\"alert alert-heading alert-danger\" style=\"background-color: white; border: 2px solid; border-radius: 5px; color: #000; border-color:#AAA; padding: 10px\">\n",
    "    <b>💎 Tip</b>\n",
    "\n",
    "Check out the GitHub REST API documentation to see how to acquire information from GitHub using the API.\n",
    "For example, you can use the following URL to retrieve information about the repository `https://api.github.com/repos/<username>/<repository-name>`, but this is not the query we want. We want **all** at least 100 repositories of an organisation.\n",
    "You can check the API's documentation here https://docs.github.com/en/rest?apiVersion=2022-11-28 or check Stackoverflow answers.\n",
    "</div>"
   ]
  },
  {
   "cell_type": "markdown",
   "metadata": {},
   "source": [
    "#### Solution\n",
    "\n",
    "1. Follow the API docs for [listing organization repositories](https://docs.github.com/en/rest/repos/repos?apiVersion=2022-11-28#list-organization-repositories)\n",
    "2. Using `requests` to send a `GET` request to get the respositories\n",
    "3. Using `per_page` and `page` to control the number of repos we want to acquire"
   ]
  },
  {
   "cell_type": "code",
   "execution_count": 1,
   "metadata": {
    "tags": []
   },
   "outputs": [],
   "source": [
    "# import necessary packages\n",
    "import requests\n",
    "import json"
   ]
  },
  {
   "cell_type": "code",
   "execution_count": 2,
   "metadata": {
    "tags": []
   },
   "outputs": [],
   "source": [
    "# all constants needed\n",
    "ORG_NAME = \"UCL-ELEC0136\"\n",
    "API_TEMPLATE = \"https://api.github.com/orgs/{}/repos\"\n",
    "MAX_PAGE_SIZE = 100"
   ]
  },
  {
   "cell_type": "code",
   "execution_count": 3,
   "metadata": {
    "tags": []
   },
   "outputs": [
    {
     "name": "stdout",
     "output_type": "stream",
     "text": [
      "https://api.github.com/orgs/UCL-ELEC0136/repos?per_page=2\n"
     ]
    }
   ],
   "source": [
    "# Test: Try to acquire 2 repos in UCL-ELEC-0136\n",
    "test_api_url = API_TEMPLATE.format(ORG_NAME) + \"?per_page=2\"\n",
    "print(test_api_url)\n",
    "response = requests.get(test_api_url)"
   ]
  },
  {
   "cell_type": "code",
   "execution_count": 4,
   "metadata": {
    "tags": []
   },
   "outputs": [
    {
     "data": {
      "text/plain": [
       "200"
      ]
     },
     "execution_count": 4,
     "metadata": {},
     "output_type": "execute_result"
    }
   ],
   "source": [
    "response.status_code"
   ]
  },
  {
   "cell_type": "code",
   "execution_count": 5,
   "metadata": {
    "tags": []
   },
   "outputs": [
    {
     "data": {
      "text/plain": [
       "2"
      ]
     },
     "execution_count": 5,
     "metadata": {},
     "output_type": "execute_result"
    }
   ],
   "source": [
    "len(response.json())"
   ]
  },
  {
   "cell_type": "code",
   "execution_count": 6,
   "metadata": {
    "tags": []
   },
   "outputs": [],
   "source": [
    "# define a reuseable function to get repos easily\n",
    "def get_github_repos_from_org(org_name: str, num: int) -> dict:\n",
    "    \"\"\"Returns the first `num` repos from github organization `org_name`.\n",
    "    \n",
    "    Parameters\n",
    "    ----------\n",
    "    org_name : str\n",
    "        The name of the github organization.\n",
    "    num: int\n",
    "        The number of repos you want to acquire.\n",
    "    \"\"\"\n",
    "    global API_TEMPLATE, MAX_PAGE_SIZE\n",
    "\n",
    "    api_url = API_TEMPLATE.format(org_name)\n",
    "    result = []\n",
    "    page_num = 1\n",
    "\n",
    "    while num > 0:\n",
    "        # get per_page repos until num == 0\n",
    "        per_page = min(num, MAX_PAGE_SIZE)\n",
    "\n",
    "        # format url with params\n",
    "        api_url_with_params = f\"{api_url}?per_page={per_page}&page={page_num}\"\n",
    "        response = requests.get(api_url_with_params)\n",
    "        if response.status_code != 200:\n",
    "            raise Exception(f\"[{response.status_code}] Please check your request url: {api_url_with_params}.\")\n",
    "        result.extend(response.json())\n",
    "\n",
    "        num -= per_page\n",
    "        page_num += 1\n",
    "\n",
    "    return result"
   ]
  },
  {
   "cell_type": "code",
   "execution_count": 7,
   "metadata": {
    "tags": []
   },
   "outputs": [],
   "source": [
    "response_100repos_json = get_github_repos_from_org(ORG_NAME, 100)"
   ]
  },
  {
   "cell_type": "code",
   "execution_count": 8,
   "metadata": {
    "tags": []
   },
   "outputs": [
    {
     "data": {
      "text/plain": [
       "100"
      ]
     },
     "execution_count": 8,
     "metadata": {},
     "output_type": "execute_result"
    }
   ],
   "source": [
    "len(response_100repos_json)"
   ]
  },
  {
   "cell_type": "code",
   "execution_count": 9,
   "metadata": {
    "collapsed": true,
    "jupyter": {
     "outputs_hidden": true
    },
    "scrolled": true,
    "tags": []
   },
   "outputs": [
    {
     "data": {
      "text/plain": [
       "{'id': 413766604,\n",
       " 'node_id': 'R_kgDOGKmTzA',\n",
       " 'name': 'github-starter-course',\n",
       " 'full_name': 'UCL-ELEC0136/github-starter-course',\n",
       " 'private': False,\n",
       " 'owner': {'login': 'UCL-ELEC0136',\n",
       "  'id': 91945376,\n",
       "  'node_id': 'O_kgDOBXr5oA',\n",
       "  'avatar_url': 'https://avatars.githubusercontent.com/u/91945376?v=4',\n",
       "  'gravatar_id': '',\n",
       "  'url': 'https://api.github.com/users/UCL-ELEC0136',\n",
       "  'html_url': 'https://github.com/UCL-ELEC0136',\n",
       "  'followers_url': 'https://api.github.com/users/UCL-ELEC0136/followers',\n",
       "  'following_url': 'https://api.github.com/users/UCL-ELEC0136/following{/other_user}',\n",
       "  'gists_url': 'https://api.github.com/users/UCL-ELEC0136/gists{/gist_id}',\n",
       "  'starred_url': 'https://api.github.com/users/UCL-ELEC0136/starred{/owner}{/repo}',\n",
       "  'subscriptions_url': 'https://api.github.com/users/UCL-ELEC0136/subscriptions',\n",
       "  'organizations_url': 'https://api.github.com/users/UCL-ELEC0136/orgs',\n",
       "  'repos_url': 'https://api.github.com/users/UCL-ELEC0136/repos',\n",
       "  'events_url': 'https://api.github.com/users/UCL-ELEC0136/events{/privacy}',\n",
       "  'received_events_url': 'https://api.github.com/users/UCL-ELEC0136/received_events',\n",
       "  'type': 'Organization',\n",
       "  'site_admin': False},\n",
       " 'html_url': 'https://github.com/UCL-ELEC0136/github-starter-course',\n",
       " 'description': 'github-starter-course created by GitHub Classroom',\n",
       " 'fork': False,\n",
       " 'url': 'https://api.github.com/repos/UCL-ELEC0136/github-starter-course',\n",
       " 'forks_url': 'https://api.github.com/repos/UCL-ELEC0136/github-starter-course/forks',\n",
       " 'keys_url': 'https://api.github.com/repos/UCL-ELEC0136/github-starter-course/keys{/key_id}',\n",
       " 'collaborators_url': 'https://api.github.com/repos/UCL-ELEC0136/github-starter-course/collaborators{/collaborator}',\n",
       " 'teams_url': 'https://api.github.com/repos/UCL-ELEC0136/github-starter-course/teams',\n",
       " 'hooks_url': 'https://api.github.com/repos/UCL-ELEC0136/github-starter-course/hooks',\n",
       " 'issue_events_url': 'https://api.github.com/repos/UCL-ELEC0136/github-starter-course/issues/events{/number}',\n",
       " 'events_url': 'https://api.github.com/repos/UCL-ELEC0136/github-starter-course/events',\n",
       " 'assignees_url': 'https://api.github.com/repos/UCL-ELEC0136/github-starter-course/assignees{/user}',\n",
       " 'branches_url': 'https://api.github.com/repos/UCL-ELEC0136/github-starter-course/branches{/branch}',\n",
       " 'tags_url': 'https://api.github.com/repos/UCL-ELEC0136/github-starter-course/tags',\n",
       " 'blobs_url': 'https://api.github.com/repos/UCL-ELEC0136/github-starter-course/git/blobs{/sha}',\n",
       " 'git_tags_url': 'https://api.github.com/repos/UCL-ELEC0136/github-starter-course/git/tags{/sha}',\n",
       " 'git_refs_url': 'https://api.github.com/repos/UCL-ELEC0136/github-starter-course/git/refs{/sha}',\n",
       " 'trees_url': 'https://api.github.com/repos/UCL-ELEC0136/github-starter-course/git/trees{/sha}',\n",
       " 'statuses_url': 'https://api.github.com/repos/UCL-ELEC0136/github-starter-course/statuses/{sha}',\n",
       " 'languages_url': 'https://api.github.com/repos/UCL-ELEC0136/github-starter-course/languages',\n",
       " 'stargazers_url': 'https://api.github.com/repos/UCL-ELEC0136/github-starter-course/stargazers',\n",
       " 'contributors_url': 'https://api.github.com/repos/UCL-ELEC0136/github-starter-course/contributors',\n",
       " 'subscribers_url': 'https://api.github.com/repos/UCL-ELEC0136/github-starter-course/subscribers',\n",
       " 'subscription_url': 'https://api.github.com/repos/UCL-ELEC0136/github-starter-course/subscription',\n",
       " 'commits_url': 'https://api.github.com/repos/UCL-ELEC0136/github-starter-course/commits{/sha}',\n",
       " 'git_commits_url': 'https://api.github.com/repos/UCL-ELEC0136/github-starter-course/git/commits{/sha}',\n",
       " 'comments_url': 'https://api.github.com/repos/UCL-ELEC0136/github-starter-course/comments{/number}',\n",
       " 'issue_comment_url': 'https://api.github.com/repos/UCL-ELEC0136/github-starter-course/issues/comments{/number}',\n",
       " 'contents_url': 'https://api.github.com/repos/UCL-ELEC0136/github-starter-course/contents/{+path}',\n",
       " 'compare_url': 'https://api.github.com/repos/UCL-ELEC0136/github-starter-course/compare/{base}...{head}',\n",
       " 'merges_url': 'https://api.github.com/repos/UCL-ELEC0136/github-starter-course/merges',\n",
       " 'archive_url': 'https://api.github.com/repos/UCL-ELEC0136/github-starter-course/{archive_format}{/ref}',\n",
       " 'downloads_url': 'https://api.github.com/repos/UCL-ELEC0136/github-starter-course/downloads',\n",
       " 'issues_url': 'https://api.github.com/repos/UCL-ELEC0136/github-starter-course/issues{/number}',\n",
       " 'pulls_url': 'https://api.github.com/repos/UCL-ELEC0136/github-starter-course/pulls{/number}',\n",
       " 'milestones_url': 'https://api.github.com/repos/UCL-ELEC0136/github-starter-course/milestones{/number}',\n",
       " 'notifications_url': 'https://api.github.com/repos/UCL-ELEC0136/github-starter-course/notifications{?since,all,participating}',\n",
       " 'labels_url': 'https://api.github.com/repos/UCL-ELEC0136/github-starter-course/labels{/name}',\n",
       " 'releases_url': 'https://api.github.com/repos/UCL-ELEC0136/github-starter-course/releases{/id}',\n",
       " 'deployments_url': 'https://api.github.com/repos/UCL-ELEC0136/github-starter-course/deployments',\n",
       " 'created_at': '2021-10-05T10:14:39Z',\n",
       " 'updated_at': '2021-10-14T09:22:49Z',\n",
       " 'pushed_at': '2021-10-05T10:14:41Z',\n",
       " 'git_url': 'git://github.com/UCL-ELEC0136/github-starter-course.git',\n",
       " 'ssh_url': 'git@github.com:UCL-ELEC0136/github-starter-course.git',\n",
       " 'clone_url': 'https://github.com/UCL-ELEC0136/github-starter-course.git',\n",
       " 'svn_url': 'https://github.com/UCL-ELEC0136/github-starter-course',\n",
       " 'homepage': None,\n",
       " 'size': 0,\n",
       " 'stargazers_count': 1,\n",
       " 'watchers_count': 1,\n",
       " 'language': None,\n",
       " 'has_issues': True,\n",
       " 'has_projects': True,\n",
       " 'has_downloads': True,\n",
       " 'has_wiki': True,\n",
       " 'has_pages': False,\n",
       " 'has_discussions': False,\n",
       " 'forks_count': 0,\n",
       " 'mirror_url': None,\n",
       " 'archived': False,\n",
       " 'disabled': False,\n",
       " 'open_issues_count': 0,\n",
       " 'license': None,\n",
       " 'allow_forking': True,\n",
       " 'is_template': True,\n",
       " 'web_commit_signoff_required': False,\n",
       " 'topics': [],\n",
       " 'visibility': 'public',\n",
       " 'forks': 0,\n",
       " 'open_issues': 0,\n",
       " 'watchers': 1,\n",
       " 'default_branch': 'main',\n",
       " 'permissions': {'admin': False,\n",
       "  'maintain': False,\n",
       "  'push': False,\n",
       "  'triage': False,\n",
       "  'pull': True}}"
      ]
     },
     "execution_count": 9,
     "metadata": {},
     "output_type": "execute_result"
    }
   ],
   "source": [
    "response_100repos_json[0]"
   ]
  },
  {
   "cell_type": "code",
   "execution_count": 10,
   "metadata": {
    "collapsed": true,
    "jupyter": {
     "outputs_hidden": true
    },
    "scrolled": true,
    "tags": []
   },
   "outputs": [
    {
     "data": {
      "text/plain": [
       "\u001b[0;31mSignature:\u001b[0m\n",
       "\u001b[0mjson\u001b[0m\u001b[0;34m.\u001b[0m\u001b[0mdump\u001b[0m\u001b[0;34m(\u001b[0m\u001b[0;34m\u001b[0m\n",
       "\u001b[0;34m\u001b[0m    \u001b[0mobj\u001b[0m\u001b[0;34m,\u001b[0m\u001b[0;34m\u001b[0m\n",
       "\u001b[0;34m\u001b[0m    \u001b[0mfp\u001b[0m\u001b[0;34m,\u001b[0m\u001b[0;34m\u001b[0m\n",
       "\u001b[0;34m\u001b[0m    \u001b[0;34m*\u001b[0m\u001b[0;34m,\u001b[0m\u001b[0;34m\u001b[0m\n",
       "\u001b[0;34m\u001b[0m    \u001b[0mskipkeys\u001b[0m\u001b[0;34m=\u001b[0m\u001b[0;32mFalse\u001b[0m\u001b[0;34m,\u001b[0m\u001b[0;34m\u001b[0m\n",
       "\u001b[0;34m\u001b[0m    \u001b[0mensure_ascii\u001b[0m\u001b[0;34m=\u001b[0m\u001b[0;32mTrue\u001b[0m\u001b[0;34m,\u001b[0m\u001b[0;34m\u001b[0m\n",
       "\u001b[0;34m\u001b[0m    \u001b[0mcheck_circular\u001b[0m\u001b[0;34m=\u001b[0m\u001b[0;32mTrue\u001b[0m\u001b[0;34m,\u001b[0m\u001b[0;34m\u001b[0m\n",
       "\u001b[0;34m\u001b[0m    \u001b[0mallow_nan\u001b[0m\u001b[0;34m=\u001b[0m\u001b[0;32mTrue\u001b[0m\u001b[0;34m,\u001b[0m\u001b[0;34m\u001b[0m\n",
       "\u001b[0;34m\u001b[0m    \u001b[0mcls\u001b[0m\u001b[0;34m=\u001b[0m\u001b[0;32mNone\u001b[0m\u001b[0;34m,\u001b[0m\u001b[0;34m\u001b[0m\n",
       "\u001b[0;34m\u001b[0m    \u001b[0mindent\u001b[0m\u001b[0;34m=\u001b[0m\u001b[0;32mNone\u001b[0m\u001b[0;34m,\u001b[0m\u001b[0;34m\u001b[0m\n",
       "\u001b[0;34m\u001b[0m    \u001b[0mseparators\u001b[0m\u001b[0;34m=\u001b[0m\u001b[0;32mNone\u001b[0m\u001b[0;34m,\u001b[0m\u001b[0;34m\u001b[0m\n",
       "\u001b[0;34m\u001b[0m    \u001b[0mdefault\u001b[0m\u001b[0;34m=\u001b[0m\u001b[0;32mNone\u001b[0m\u001b[0;34m,\u001b[0m\u001b[0;34m\u001b[0m\n",
       "\u001b[0;34m\u001b[0m    \u001b[0msort_keys\u001b[0m\u001b[0;34m=\u001b[0m\u001b[0;32mFalse\u001b[0m\u001b[0;34m,\u001b[0m\u001b[0;34m\u001b[0m\n",
       "\u001b[0;34m\u001b[0m    \u001b[0;34m**\u001b[0m\u001b[0mkw\u001b[0m\u001b[0;34m,\u001b[0m\u001b[0;34m\u001b[0m\n",
       "\u001b[0;34m\u001b[0m\u001b[0;34m)\u001b[0m\u001b[0;34m\u001b[0m\u001b[0;34m\u001b[0m\u001b[0m\n",
       "\u001b[0;31mDocstring:\u001b[0m\n",
       "Serialize ``obj`` as a JSON formatted stream to ``fp`` (a\n",
       "``.write()``-supporting file-like object).\n",
       "\n",
       "If ``skipkeys`` is true then ``dict`` keys that are not basic types\n",
       "(``str``, ``int``, ``float``, ``bool``, ``None``) will be skipped\n",
       "instead of raising a ``TypeError``.\n",
       "\n",
       "If ``ensure_ascii`` is false, then the strings written to ``fp`` can\n",
       "contain non-ASCII characters if they appear in strings contained in\n",
       "``obj``. Otherwise, all such characters are escaped in JSON strings.\n",
       "\n",
       "If ``check_circular`` is false, then the circular reference check\n",
       "for container types will be skipped and a circular reference will\n",
       "result in an ``OverflowError`` (or worse).\n",
       "\n",
       "If ``allow_nan`` is false, then it will be a ``ValueError`` to\n",
       "serialize out of range ``float`` values (``nan``, ``inf``, ``-inf``)\n",
       "in strict compliance of the JSON specification, instead of using the\n",
       "JavaScript equivalents (``NaN``, ``Infinity``, ``-Infinity``).\n",
       "\n",
       "If ``indent`` is a non-negative integer, then JSON array elements and\n",
       "object members will be pretty-printed with that indent level. An indent\n",
       "level of 0 will only insert newlines. ``None`` is the most compact\n",
       "representation.\n",
       "\n",
       "If specified, ``separators`` should be an ``(item_separator, key_separator)``\n",
       "tuple.  The default is ``(', ', ': ')`` if *indent* is ``None`` and\n",
       "``(',', ': ')`` otherwise.  To get the most compact JSON representation,\n",
       "you should specify ``(',', ':')`` to eliminate whitespace.\n",
       "\n",
       "``default(obj)`` is a function that should return a serializable version\n",
       "of obj or raise TypeError. The default simply raises TypeError.\n",
       "\n",
       "If *sort_keys* is true (default: ``False``), then the output of\n",
       "dictionaries will be sorted by key.\n",
       "\n",
       "To use a custom ``JSONEncoder`` subclass (e.g. one that overrides the\n",
       "``.default()`` method to serialize additional types), specify it with\n",
       "the ``cls`` kwarg; otherwise ``JSONEncoder`` is used.\n",
       "\u001b[0;31mFile:\u001b[0m      ~/workspace/miniconda3/envs/daps/lib/python3.10/json/__init__.py\n",
       "\u001b[0;31mType:\u001b[0m      function"
      ]
     },
     "metadata": {},
     "output_type": "display_data"
    }
   ],
   "source": [
    "# lookup the usage of json.dump\n",
    "json.dump?"
   ]
  },
  {
   "cell_type": "code",
   "execution_count": 11,
   "metadata": {
    "tags": []
   },
   "outputs": [],
   "source": [
    "# save the response of 100 repos\n",
    "with open(\"response_100repos.json\", \"w\") as f:\n",
    "    json.dump(response_100repos_json, f)"
   ]
  },
  {
   "cell_type": "code",
   "execution_count": 12,
   "metadata": {
    "tags": []
   },
   "outputs": [],
   "source": [
    "# load json from file and verify\n",
    "with open(\"response_100repos.json\", \"r\") as f:\n",
    "    response_100repos_from_file_json = json.load(f)\n",
    "assert response_100repos_json == response_100repos_from_file_json, \"Two jsons are different!!\""
   ]
  },
  {
   "cell_type": "markdown",
   "metadata": {},
   "source": [
    "## 4.1 Pagination\n",
    "\n",
    "<div class=\"alert alert-block alert-warning\">\n",
    "<b>👩‍💻👨‍💻 Optional action</b>\n",
    "\n",
    "- What if we want 200 repositories?\n",
    "\n",
    "</div>\n",
    "\n",
    "\n",
    "<div class=\"alert alert-heading alert-danger\" style=\"background-color: white; border: 2px solid; border-radius: 5px; color: #000; border-color:#AAA; padding: 10px\">\n",
    "    <b>💎 Tip</b>\n",
    "\n",
    "The method is in the title of this section\n",
    "</div>"
   ]
  },
  {
   "cell_type": "code",
   "execution_count": 13,
   "metadata": {
    "tags": []
   },
   "outputs": [],
   "source": [
    "response_200repos_json = get_github_repos_from_org(ORG_NAME, 200)\n",
    "with open(\"response_200repos.json\", \"w\") as f:\n",
    "    json.dump(response_200repos_json, f)"
   ]
  },
  {
   "cell_type": "code",
   "execution_count": 14,
   "metadata": {
    "tags": []
   },
   "outputs": [],
   "source": [
    "# load json from file and verify\n",
    "with open(\"response_200repos.json\", \"r\") as f:\n",
    "    response_200repos_from_file_json = json.load(f)\n",
    "assert response_200repos_json == response_200repos_from_file_json, \"Two jsons are different!!\""
   ]
  },
  {
   "cell_type": "markdown",
   "metadata": {},
   "source": [
    "## 5. Pushing your code to GitHub\n",
    "\n",
    "We are now ready to push our code that acquires data from GitHub to our repository (which is also GitHub, but this is just a coincidence, we could have used any other API, like Twitter's or Facebook's).\n",
    "\n",
    "<div class=\"alert alert-block alert-danger\">\n",
    "<b>👩‍💻👨‍💻 Action required</b>\n",
    "\n",
    "- Go into your terminal\n",
    "- Check the git status of your repository using the command `git status`\n",
    "- Verify that the files you want to commit are listed, and that there is no pending changes to pull from the remote\n",
    "- Add the files to the staging area using the command `git add <file-name>`\n",
    "- Commit the files using the command `git commit -m \"<commit-message>\"`\n",
    "- Use a meaningful commit message, e.g., `Acquire data from GitHub`\n",
    "- Push the files to GitHub using the command `git push`\n",
    "- Verify that the files have been pushed to GitHub by refreshing the page of your repository on GitHub. \n",
    "</div>"
   ]
  },
  {
   "cell_type": "code",
   "execution_count": null,
   "metadata": {},
   "outputs": [],
   "source": [
    "# write your code here, if applicable"
   ]
  },
  {
   "cell_type": "markdown",
   "metadata": {},
   "source": [
    "## 6. Submitting your assignment\n",
    "\n",
    "To submit this assignment and **every other future assignment**, included the **final assignment** you have to:\n",
    "- Commit and push your code to GitHub\n",
    "- Go to **your** repository of the assignment. This must be on our course organisation `UCL-ELEC0136` and usually has the pattern `https://github.com/UCL-ELEC0136/<assignment-name>-<your-github-username>`.\n",
    "- Go in the `Pull requests` tab and click on the `Feedback` pull request.\n",
    "- Click on `Files changed` and verify that the files you have changed are listed.\n",
    "- Merge the pull request by clicking on `Merge pull request` and then `Confirm merge`.\n",
    "\n",
    "We are now ready to push our code that acquires data from GitHub to our repository (which is also GitHub, but this is just a coincidence, we could have used any other API, like Twitter's or Facebook's).\n",
    "\n",
    "<div class=\"alert alert-block alert-danger\">\n",
    "<b>👩‍💻👨‍💻 Action required</b>\n",
    "\n",
    "Submit your assignment by following the steps above.\n",
    "</div>"
   ]
  },
  {
   "cell_type": "code",
   "execution_count": null,
   "metadata": {},
   "outputs": [],
   "source": [
    "# Write your code here, if applicable"
   ]
  },
  {
   "cell_type": "code",
   "execution_count": null,
   "metadata": {},
   "outputs": [],
   "source": []
  }
 ],
 "metadata": {
  "kernelspec": {
   "display_name": "Python 3 (ipykernel)",
   "language": "python",
   "name": "python3"
  },
  "language_info": {
   "codemirror_mode": {
    "name": "ipython",
    "version": 3
   },
   "file_extension": ".py",
   "mimetype": "text/x-python",
   "name": "python",
   "nbconvert_exporter": "python",
   "pygments_lexer": "ipython3",
   "version": "3.10.0"
  }
 },
 "nbformat": 4,
 "nbformat_minor": 4
}
